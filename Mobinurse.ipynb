{
 "cells": [
  {
   "cell_type": "code",
   "execution_count": null,
   "metadata": {},
   "outputs": [],
   "source": [
    "# !pip install google-cloud-storage\n",
    "# !pip install firebase_admin\n",
    "# !pip install SpeechRecognition\n",
    "# !pip install pyaudio"
   ]
  },
  {
   "cell_type": "code",
   "execution_count": null,
   "metadata": {},
   "outputs": [],
   "source": []
  },
  {
   "cell_type": "code",
   "execution_count": 1,
   "metadata": {
    "colab": {},
    "colab_type": "code",
    "id": "w-tAyD1lCDjI"
   },
   "outputs": [],
   "source": [
    "def getDict(ans,samples):\n",
    "  prescription = {}\n",
    "  name = \"\"\n",
    "  age = None\n",
    "  gender = None\n",
    "  disease = \"\"\n",
    "  symptom_duration = None\n",
    "  symptoms = {}\n",
    "  advise = {}\n",
    "  num_medic = 0\n",
    "  num_du = 0\n",
    "  num_dof = 0\n",
    "  num_do = 0\n",
    "  symp_start = \"\"\n",
    "  adv_start = \"\"\n",
    "  medi = []\n",
    "  du = []\n",
    "  do = []\n",
    "  dof = []  \n",
    "  medi_start = \"\"\n",
    "  du_start = \"\"\n",
    "  dof_start = \"\"\n",
    "  do_start = \"\"\n",
    "\n",
    "  for i in range(len(ans)):\n",
    "    if ans[i] == \"B-NA\":\n",
    "      name = samples.split()[i]\n",
    "    elif ans[i] == \"I-NA\":\n",
    "      name = name + \" \" + samples.split()[i]\n",
    "\n",
    "    if ans[i] == \"B-DI\":\n",
    "      disease = samples.split()[i]\n",
    "    elif ans[i] == \"I-DI\":\n",
    "      disease += \" \" + samples.split()[i]\n",
    "\n",
    "\n",
    "    if ans[i] == \"B-SYDU\":\n",
    "      symptom_duration = samples.split()[i]\n",
    "    elif ans[i] == \"I-SYDU\":\n",
    "      symptom_duration += \" \" + samples.split()[i]\n",
    "\n",
    "\n",
    "    if ans[i] == \"B-AG\":\n",
    "      age = samples.split()[i]\n",
    "    if ans[i] == \"B-GE\":\n",
    "      gender = samples.split()[i]\n",
    "\n",
    "    if ans[i] == \"B-ME\":\n",
    "      num_medic += 1\n",
    "    if ans[i] == \"B-DO\":\n",
    "      num_do += 1\n",
    "    if ans[i] == \"B-DU\":\n",
    "      num_du += 1\n",
    "    if ans[i] == \"B-DOF\":\n",
    "      num_dof += 1\n",
    "\n",
    "    if ans[i] == \"B-SY\" and ans[i+1] == \"I-SY\":\n",
    "      symp_start += samples.split()[i]\n",
    "    elif ans[i] == \"B-SY\" and ans[i+1] != \"I-SY\":\n",
    "      symptoms[samples.split()[i]] = True\n",
    "    elif ans[i] == \"I-SY\" and ans[i+1] == \"I-SY\":\n",
    "      symp_start += \" \" + samples.split()[i]\n",
    "    elif ans[i] == \"I-SY\" and ans[i+1] != \"I-SY\":\n",
    "      symp_start += \" \" + samples.split()[i]\n",
    "      symptoms[symp_start] = True\n",
    "      symp_start = \"\"\n",
    "\n",
    "    if ans[i] == \"B-AD\" and ans[i+1] == \"I-AD\":\n",
    "      adv_start += samples.split()[i]\n",
    "    elif ans[i] == \"B-AD\" and ans[i+1] != \"I-AD\":\n",
    "      advise[samples.split()[i]] = True\n",
    "    elif ans[i] == \"I-AD\" and ans[i+1] == \"I-AD\":\n",
    "      adv_start += \" \" + samples.split()[i]\n",
    "    elif ans[i] == \"I-AD\" and ans[i+1] != \"I-AD\":\n",
    "      adv_start += \" \" + samples.split()[i]\n",
    "      advise[adv_start] = True\n",
    "      adv_start = \"\"\n",
    "\n",
    "    if ans[i] == \"B-ME\" and ans[i+1] == \"I-ME\":\n",
    "      medi_start += samples.split()[i]\n",
    "    elif ans[i] == \"B-ME\" and ans[i+1] != \"I-ME\":\n",
    "      medi.append(samples.split()[i])\n",
    "    elif ans[i] == \"I-ME\" and ans[i+1] == \"I-ME\":\n",
    "      medi_start += \" \" + samples.split()[i]\n",
    "    elif ans[i] == \"I-ME\" and ans[i+1] != \"I-ME\":\n",
    "      medi_start += \" \" + samples.split()[i]\n",
    "      medi.append(medi_start)\n",
    "      medi_start = \"\"\n",
    "\n",
    "    \n",
    "    if ans[i] == \"B-DU\" and ans[i+1] == \"I-DU\":\n",
    "      du_start += samples.split()[i]\n",
    "    elif ans[i] == \"B-DU\" and ans[i+1] != \"I-DU\":\n",
    "      du.append(samples.split()[i])\n",
    "    elif ans[i] == \"I-DU\" and ans[i+1] == \"I-DU\":\n",
    "      du_start += \" \" + samples.split()[i]\n",
    "    elif ans[i] == \"I-DU\" and ans[i+1] != \"I-DU\":\n",
    "      du_start += \" \" + samples.split()[i]\n",
    "      du.append(du_start)\n",
    "      du_start = \"\"\n",
    "\n",
    "    if ans[i] == \"B-DOF\" and ans[i+1] == \"I-DOF\":\n",
    "      dof_start += samples.split()[i]\n",
    "    elif ans[i] == \"B-DOF\" and ans[i+1] != \"I-DOF\":\n",
    "      dof.append(samples.split()[i])\n",
    "    elif ans[i] == \"I-DOF\" and ans[i+1] == \"I-DOF\":\n",
    "      dof_start += \" \" + samples.split()[i]\n",
    "    elif ans[i] == \"I-DOF\" and ans[i+1] != \"I-DOF\":\n",
    "      dof_start += \" \" + samples.split()[i]\n",
    "      dof.append(dof_start)\n",
    "      dof_start = \"\"\n",
    "\n",
    "    if ans[i] == \"B-DO\" and ans[i+1] == \"I-DO\":\n",
    "      do_start += samples.split()[i]\n",
    "    elif ans[i] == \"B-DO\" and ans[i+1] != \"I-DO\":\n",
    "      do.append(samples.split()[i])\n",
    "    elif ans[i] == \"I-DO\" and ans[i+1] == \"I-DO\":\n",
    "      do_start += \" \" + samples.split()[i]\n",
    "    elif ans[i] == \"I-DO\" and ans[i+1] != \"I-DO\":\n",
    "      do_start += \" \" + samples.split()[i]\n",
    "      do.append(do_start)\n",
    "      do_start = \"\"\n",
    "\n",
    "\n",
    "  if gender == None:\n",
    "    if \"He\" in samples.split() or \"he\" in samples.split():\n",
    "      gender = \"male\"\n",
    "    elif \"She\" in samples.split() or \"she\" in samples.split():\n",
    "      gender = \"female\"\n",
    " \n",
    "\n",
    "  prescription[\"name\"] = name\n",
    "  prescription[\"age\"] = age\n",
    "  prescription[\"gender\"] = gender\n",
    "  prescription[\"symptoms\"] = symptoms\n",
    "  prescription[\"disease\"] = disease\n",
    "  prescription[\"advise\"] = advise\n",
    "  prescription[\"symptom_duration\"] = symptom_duration\n",
    "\n",
    "  prescription[\"medication\"] = {}\n",
    "  for m in medi:\n",
    "    prescription[\"medication\"][m] = {}\n",
    "\n",
    "  if num_medic == num_dof:\n",
    "    for i in range(num_medic):\n",
    "      prescription[\"medication\"][medi[i]][\"dosage_frequency\"] = dof[i]\n",
    "  elif num_medic != num_dof and num_dof!=0:\n",
    "    for i in range(num_medic):\n",
    "      prescription[\"medication\"][medi[i]][\"dosage_frequency\"] = dof[0]\n",
    "\n",
    "  if num_medic == num_du:\n",
    "    for i in range(num_medic):\n",
    "      prescription[\"medication\"][medi[i]][\"duration\"] = du[i]\n",
    "  elif num_medic != num_du and len(du)!=0:\n",
    "    for i in range(num_medic):\n",
    "      prescription[\"medication\"][medi[i]][\"duration\"] = du[0]\n",
    "\n",
    "  helper = {}\n",
    "  if num_medic == num_do:\n",
    "    for i in range(num_medic):\n",
    "      prescription[\"medication\"][medi[i]][\"dosage\"] = do[i]\n",
    "  else:\n",
    "    for i in range(len(ans)):\n",
    "      if ans[i]=='B-DO':\n",
    "        for j in range(i-3,i+3):\n",
    "          if ans[j]=='B-ME':\n",
    "            helper[samples.split()[i]] = j\n",
    "\n",
    "    for i in range(len(do)):\n",
    "      for j in range(len(medi)):\n",
    "        if helper.get(do[i].split()[0]) and samples.split()[helper[do[i].split()[0]]] in medi[j]:\n",
    "          prescription[\"medication\"][medi[j]][\"dosage\"] = do[i]\n",
    "  return prescription\n",
    "  "
   ]
  },
  {
   "cell_type": "code",
   "execution_count": 2,
   "metadata": {},
   "outputs": [],
   "source": [
    "def convertDict(nd):\n",
    "    i = 1\n",
    "    symp = {}\n",
    "    adv = {}\n",
    "    med = {}\n",
    "    for sy in nd.get('symptoms').keys():\n",
    "        symp['Symptom ' + str(i)] = sy\n",
    "        i += 1\n",
    "    i = 1\n",
    "    for ad in nd.get('advise').keys():\n",
    "        adv['Advice ' + str(i)] = ad\n",
    "        i += 1\n",
    "    i = 1\n",
    "    for md in nd.get('medication').keys():\n",
    "        med['Medication ' + str(i)] = {\n",
    "            md: nd.get('medication').get(md)\n",
    "        }\n",
    "        i += 1\n",
    "        \n",
    "    return {\n",
    "        'name': {'name': nd.get('name')},\n",
    "        'age': {'age': nd.get('age')},\n",
    "        'gender': {'gender': nd.get('gender')},\n",
    "        'symptoms': symp,\n",
    "        'disease': {'disease': nd.get('disease')},\n",
    "        'advice': adv,\n",
    "        'medication': med\n",
    "    }\n",
    "    "
   ]
  },
  {
   "cell_type": "code",
   "execution_count": 3,
   "metadata": {
    "colab": {},
    "colab_type": "code",
    "id": "xHrjJTRYW8vK"
   },
   "outputs": [],
   "source": [
    "import pandas as pd\n",
    "import numpy as np\n",
    "\n",
    "data = pd.read_csv(\"prescriptions.csv\", encoding=\"latin1\")\n",
    "data = data.fillna(method=\"ffill\")\n",
    "\n",
    "words = list(set(data[\"Word\"].values))\n",
    "words = list(set(data[\"Word\"].values))\n",
    "words.append(\"ENDPAD\")\n",
    "n_words = len(words)\n",
    "\n",
    "tags = list(set(data[\"Tag\"].values))\n",
    "\n",
    "n_tags = len(tags)\n",
    "\n",
    "class SentenceGetter(object):\n",
    "    \n",
    "    def __init__(self, data):\n",
    "        self.n_sent = 1\n",
    "        self.data = data\n",
    "        self.empty = False\n",
    "        agg_func = lambda s: [(w, p, t) for w, p, t in zip(s[\"Word\"].values.tolist(),\n",
    "                                                           s[\"POS\"].values.tolist(),\n",
    "                                                           s[\"Tag\"].values.tolist())]\n",
    "        self.grouped = self.data.groupby(\"Sentence #\").apply(agg_func)\n",
    "        self.sentences = [s for s in self.grouped]\n",
    "    \n",
    "    def get_next(self):\n",
    "        try:\n",
    "            s = self.grouped[\"Sentence: {}\".format(self.n_sent)]\n",
    "            self.n_sent += 1\n",
    "            return s\n",
    "        except:\n",
    "            return None\n",
    "\n",
    "\n",
    "getter = SentenceGetter(data)\n",
    "sent = getter.get_next()\n",
    "sentences = getter.sentences\n",
    "\n",
    "max_len = 90\n",
    "\n",
    "i = 0\n",
    "word2idx = {}\n",
    "for w in words:\n",
    "  if word2idx.get(w.lower()) or word2idx.get(w.capitalize()):\n",
    "    continue\n",
    "  else:\n",
    "    if w == \"ENDPAD\":\n",
    "      continue\n",
    "    word2idx[w.lower()]=i\n",
    "    word2idx[w.capitalize()]=i\n",
    "    i+=1\n",
    "\n",
    "tag2idx = {t: i for i, t in enumerate(tags)}\n",
    "word2idx[\"ENDPAD\"]=n_words-1\n",
    "\n",
    "inverted_dict = {value: key for key, value in word2idx.items()}\n"
   ]
  },
  {
   "cell_type": "code",
   "execution_count": 4,
   "metadata": {
    "colab": {
     "base_uri": "https://localhost:8080/",
     "height": 659
    },
    "colab_type": "code",
    "id": "QyBI_ly-W8mx",
    "outputId": "d6cbcc54-fc6e-41b6-e510-0b84853e47e8"
   },
   "outputs": [
    {
     "name": "stderr",
     "output_type": "stream",
     "text": [
      "Using TensorFlow backend.\n"
     ]
    },
    {
     "name": "stdout",
     "output_type": "stream",
     "text": [
      "Model: \"model_1\"\n",
      "_________________________________________________________________\n",
      "Layer (type)                 Output Shape              Param #   \n",
      "=================================================================\n",
      "input_1 (InputLayer)         (None, 90)                0         \n",
      "_________________________________________________________________\n",
      "embedding_1 (Embedding)      (None, 90, 40)            23000     \n",
      "_________________________________________________________________\n",
      "dropout_1 (Dropout)          (None, 90, 40)            0         \n",
      "_________________________________________________________________\n",
      "bidirectional_1 (Bidirection (None, 90, 30)            6720      \n",
      "_________________________________________________________________\n",
      "time_distributed_1 (TimeDist (None, 90, 22)            682       \n",
      "=================================================================\n",
      "Total params: 30,402\n",
      "Trainable params: 30,402\n",
      "Non-trainable params: 0\n",
      "_________________________________________________________________\n"
     ]
    },
    {
     "name": "stderr",
     "output_type": "stream",
     "text": [
      "C:\\Users\\RAM\\Anaconda3\\IOSDPython\\lib\\site-packages\\tensorflow_core\\python\\framework\\indexed_slices.py:424: UserWarning: Converting sparse IndexedSlices to a dense Tensor of unknown shape. This may consume a large amount of memory.\n",
      "  \"Converting sparse IndexedSlices to a dense Tensor of unknown shape. \"\n"
     ]
    },
    {
     "name": "stdout",
     "output_type": "stream",
     "text": [
      "Train on 82 samples, validate on 10 samples\n",
      "Epoch 1/100\n",
      "82/82 [==============================] - 5s 64ms/step - loss: 2.5449 - accuracy: 0.6298 - val_loss: 1.8141 - val_accuracy: 0.6756\n",
      "Epoch 2/100\n",
      "82/82 [==============================] - 3s 39ms/step - loss: 1.5224 - accuracy: 0.7137 - val_loss: 1.5334 - val_accuracy: 0.6756\n",
      "Epoch 3/100\n",
      "82/82 [==============================] - 4s 51ms/step - loss: 1.3282 - accuracy: 0.7137 - val_loss: 1.3408 - val_accuracy: 0.6756\n",
      "Epoch 4/100\n",
      "82/82 [==============================] - 4s 53ms/step - loss: 1.2004 - accuracy: 0.7137 - val_loss: 1.2378 - val_accuracy: 0.6756\n",
      "Epoch 5/100\n",
      "82/82 [==============================] - 4s 50ms/step - loss: 1.1169 - accuracy: 0.7137 - val_loss: 1.1683 - val_accuracy: 0.6756\n",
      "Epoch 6/100\n",
      "82/82 [==============================] - 4s 53ms/step - loss: 1.0450 - accuracy: 0.7138 - val_loss: 1.1087 - val_accuracy: 0.6756\n",
      "Epoch 7/100\n",
      "82/82 [==============================] - 4s 52ms/step - loss: 0.9755 - accuracy: 0.7142 - val_loss: 1.0519 - val_accuracy: 0.6878\n",
      "Epoch 8/100\n",
      "82/82 [==============================] - 4s 49ms/step - loss: 0.9053 - accuracy: 0.7285 - val_loss: 0.9917 - val_accuracy: 0.7056\n",
      "Epoch 9/100\n",
      "82/82 [==============================] - 4s 46ms/step - loss: 0.8392 - accuracy: 0.7554 - val_loss: 0.9387 - val_accuracy: 0.7222\n",
      "Epoch 10/100\n",
      "82/82 [==============================] - 4s 46ms/step - loss: 0.7757 - accuracy: 0.7763 - val_loss: 0.8823 - val_accuracy: 0.7378\n",
      "Epoch 11/100\n",
      "82/82 [==============================] - 4s 43ms/step - loss: 0.7206 - accuracy: 0.7870 - val_loss: 0.8339 - val_accuracy: 0.7422\n",
      "Epoch 12/100\n",
      "82/82 [==============================] - 4s 50ms/step - loss: 0.6667 - accuracy: 0.8011 - val_loss: 0.7839 - val_accuracy: 0.7556\n",
      "Epoch 13/100\n",
      "82/82 [==============================] - 5s 56ms/step - loss: 0.6173 - accuracy: 0.8169 - val_loss: 0.7423 - val_accuracy: 0.7667\n",
      "Epoch 14/100\n",
      "82/82 [==============================] - 5s 55ms/step - loss: 0.5782 - accuracy: 0.8297 - val_loss: 0.6943 - val_accuracy: 0.7789\n",
      "Epoch 15/100\n",
      "82/82 [==============================] - 4s 53ms/step - loss: 0.5363 - accuracy: 0.8388 - val_loss: 0.6539 - val_accuracy: 0.7889\n",
      "Epoch 16/100\n",
      "82/82 [==============================] - 4s 49ms/step - loss: 0.5031 - accuracy: 0.8493 - val_loss: 0.6216 - val_accuracy: 0.8000\n",
      "Epoch 17/100\n",
      "82/82 [==============================] - 4s 54ms/step - loss: 0.4684 - accuracy: 0.8618 - val_loss: 0.5930 - val_accuracy: 0.8078\n",
      "Epoch 18/100\n",
      "82/82 [==============================] - 5s 56ms/step - loss: 0.4384 - accuracy: 0.8715 - val_loss: 0.5602 - val_accuracy: 0.8144\n",
      "Epoch 19/100\n",
      "82/82 [==============================] - 5s 62ms/step - loss: 0.4058 - accuracy: 0.8859 - val_loss: 0.5319 - val_accuracy: 0.8378\n",
      "Epoch 20/100\n",
      "82/82 [==============================] - 5s 58ms/step - loss: 0.3805 - accuracy: 0.8928 - val_loss: 0.5032 - val_accuracy: 0.8444\n",
      "Epoch 21/100\n",
      "82/82 [==============================] - 4s 55ms/step - loss: 0.3588 - accuracy: 0.9046 - val_loss: 0.4812 - val_accuracy: 0.8600\n",
      "Epoch 22/100\n",
      "82/82 [==============================] - 4s 50ms/step - loss: 0.3357 - accuracy: 0.9130 - val_loss: 0.4590 - val_accuracy: 0.8656\n",
      "Epoch 23/100\n",
      "82/82 [==============================] - 4s 52ms/step - loss: 0.3093 - accuracy: 0.9232 - val_loss: 0.4294 - val_accuracy: 0.8789\n",
      "Epoch 24/100\n",
      "82/82 [==============================] - 4s 50ms/step - loss: 0.2890 - accuracy: 0.9285 - val_loss: 0.4162 - val_accuracy: 0.8822\n",
      "Epoch 25/100\n",
      "82/82 [==============================] - 4s 55ms/step - loss: 0.2720 - accuracy: 0.9350 - val_loss: 0.3957 - val_accuracy: 0.8889\n",
      "Epoch 26/100\n",
      "82/82 [==============================] - 4s 48ms/step - loss: 0.2505 - accuracy: 0.9430 - val_loss: 0.3719 - val_accuracy: 0.8989\n",
      "Epoch 27/100\n",
      "82/82 [==============================] - 4s 49ms/step - loss: 0.2292 - accuracy: 0.9450 - val_loss: 0.3507 - val_accuracy: 0.9022\n",
      "Epoch 28/100\n",
      "82/82 [==============================] - 5s 60ms/step - loss: 0.2153 - accuracy: 0.9492 - val_loss: 0.3370 - val_accuracy: 0.9122\n",
      "Epoch 29/100\n",
      "82/82 [==============================] - 4s 55ms/step - loss: 0.1983 - accuracy: 0.9535 - val_loss: 0.3265 - val_accuracy: 0.9156\n",
      "Epoch 30/100\n",
      "82/82 [==============================] - 4s 50ms/step - loss: 0.1843 - accuracy: 0.9588 - val_loss: 0.3051 - val_accuracy: 0.9222\n",
      "Epoch 31/100\n",
      "82/82 [==============================] - 5s 55ms/step - loss: 0.1703 - accuracy: 0.9633 - val_loss: 0.2901 - val_accuracy: 0.9233\n",
      "Epoch 32/100\n",
      "82/82 [==============================] - 4s 47ms/step - loss: 0.1599 - accuracy: 0.9661 - val_loss: 0.2786 - val_accuracy: 0.9300\n",
      "Epoch 33/100\n",
      "82/82 [==============================] - 4s 46ms/step - loss: 0.1470 - accuracy: 0.9692 - val_loss: 0.2667 - val_accuracy: 0.9367\n",
      "Epoch 34/100\n",
      "82/82 [==============================] - 4s 50ms/step - loss: 0.1372 - accuracy: 0.9710 - val_loss: 0.2555 - val_accuracy: 0.9389\n",
      "Epoch 35/100\n",
      "82/82 [==============================] - 4s 50ms/step - loss: 0.1286 - accuracy: 0.9734 - val_loss: 0.2454 - val_accuracy: 0.9378\n",
      "Epoch 36/100\n",
      "82/82 [==============================] - 4s 48ms/step - loss: 0.1180 - accuracy: 0.9775 - val_loss: 0.2377 - val_accuracy: 0.9411\n",
      "Epoch 37/100\n",
      "82/82 [==============================] - 4s 48ms/step - loss: 0.1122 - accuracy: 0.9764 - val_loss: 0.2295 - val_accuracy: 0.9422\n",
      "Epoch 38/100\n",
      "82/82 [==============================] - 4s 51ms/step - loss: 0.1044 - accuracy: 0.9794 - val_loss: 0.2223 - val_accuracy: 0.9433\n",
      "Epoch 39/100\n",
      "82/82 [==============================] - 4s 51ms/step - loss: 0.0974 - accuracy: 0.9802 - val_loss: 0.2161 - val_accuracy: 0.9444\n",
      "Epoch 40/100\n",
      "82/82 [==============================] - 5s 55ms/step - loss: 0.0905 - accuracy: 0.9836 - val_loss: 0.2113 - val_accuracy: 0.9422\n",
      "Epoch 41/100\n",
      "82/82 [==============================] - 4s 47ms/step - loss: 0.0865 - accuracy: 0.9837 - val_loss: 0.2068 - val_accuracy: 0.9456\n",
      "Epoch 42/100\n",
      "82/82 [==============================] - 5s 62ms/step - loss: 0.0811 - accuracy: 0.9848 - val_loss: 0.1977 - val_accuracy: 0.9456\n",
      "Epoch 43/100\n",
      "82/82 [==============================] - 5s 61ms/step - loss: 0.0760 - accuracy: 0.9854 - val_loss: 0.1944 - val_accuracy: 0.9489\n",
      "Epoch 44/100\n",
      "82/82 [==============================] - 4s 53ms/step - loss: 0.0731 - accuracy: 0.9866 - val_loss: 0.1926 - val_accuracy: 0.9489\n",
      "Epoch 45/100\n",
      "82/82 [==============================] - 4s 50ms/step - loss: 0.0673 - accuracy: 0.9875 - val_loss: 0.1914 - val_accuracy: 0.9478\n",
      "Epoch 46/100\n",
      "82/82 [==============================] - 5s 56ms/step - loss: 0.0631 - accuracy: 0.9898 - val_loss: 0.1885 - val_accuracy: 0.9467\n",
      "Epoch 47/100\n",
      "82/82 [==============================] - 4s 50ms/step - loss: 0.0613 - accuracy: 0.9889 - val_loss: 0.1832 - val_accuracy: 0.9511\n",
      "Epoch 48/100\n",
      "82/82 [==============================] - 5s 57ms/step - loss: 0.0583 - accuracy: 0.9900 - val_loss: 0.1827 - val_accuracy: 0.9467\n",
      "Epoch 49/100\n",
      "82/82 [==============================] - 5s 55ms/step - loss: 0.0545 - accuracy: 0.9905 - val_loss: 0.1801 - val_accuracy: 0.9478\n",
      "Epoch 50/100\n",
      "82/82 [==============================] - 4s 53ms/step - loss: 0.0512 - accuracy: 0.9904 - val_loss: 0.1794 - val_accuracy: 0.9489\n",
      "Epoch 51/100\n",
      "82/82 [==============================] - 4s 55ms/step - loss: 0.0492 - accuracy: 0.9912 - val_loss: 0.1771 - val_accuracy: 0.9500\n",
      "Epoch 52/100\n",
      "82/82 [==============================] - 5s 63ms/step - loss: 0.0480 - accuracy: 0.9921 - val_loss: 0.1745 - val_accuracy: 0.9511\n",
      "Epoch 53/100\n",
      "82/82 [==============================] - 4s 54ms/step - loss: 0.0454 - accuracy: 0.9915 - val_loss: 0.1707 - val_accuracy: 0.9533\n",
      "Epoch 54/100\n",
      "82/82 [==============================] - 4s 52ms/step - loss: 0.0438 - accuracy: 0.9927 - val_loss: 0.1707 - val_accuracy: 0.9533\n",
      "Epoch 55/100\n",
      "82/82 [==============================] - 4s 48ms/step - loss: 0.0418 - accuracy: 0.9917 - val_loss: 0.1674 - val_accuracy: 0.9556\n",
      "Epoch 56/100\n",
      "82/82 [==============================] - 4s 51ms/step - loss: 0.0390 - accuracy: 0.9934 - val_loss: 0.1695 - val_accuracy: 0.9533\n",
      "Epoch 57/100\n",
      "82/82 [==============================] - 4s 50ms/step - loss: 0.0373 - accuracy: 0.9936 - val_loss: 0.1673 - val_accuracy: 0.9556\n",
      "Epoch 58/100\n"
     ]
    },
    {
     "name": "stdout",
     "output_type": "stream",
     "text": [
      "82/82 [==============================] - 4s 53ms/step - loss: 0.0381 - accuracy: 0.9930 - val_loss: 0.1748 - val_accuracy: 0.9511\n",
      "Epoch 59/100\n",
      "82/82 [==============================] - 4s 50ms/step - loss: 0.0340 - accuracy: 0.9938 - val_loss: 0.1697 - val_accuracy: 0.9522\n",
      "Epoch 60/100\n",
      "82/82 [==============================] - 4s 49ms/step - loss: 0.0325 - accuracy: 0.9939 - val_loss: 0.1684 - val_accuracy: 0.9544\n",
      "Epoch 61/100\n",
      "82/82 [==============================] - 4s 53ms/step - loss: 0.0299 - accuracy: 0.9947 - val_loss: 0.1668 - val_accuracy: 0.9533\n",
      "Epoch 62/100\n",
      "82/82 [==============================] - 5s 59ms/step - loss: 0.0292 - accuracy: 0.9946 - val_loss: 0.1660 - val_accuracy: 0.9556\n",
      "Epoch 63/100\n",
      "82/82 [==============================] - 4s 51ms/step - loss: 0.0289 - accuracy: 0.9946 - val_loss: 0.1660 - val_accuracy: 0.9578\n",
      "Epoch 64/100\n",
      "82/82 [==============================] - 4s 54ms/step - loss: 0.0278 - accuracy: 0.9953 - val_loss: 0.1620 - val_accuracy: 0.9578\n",
      "Epoch 65/100\n",
      "82/82 [==============================] - 4s 52ms/step - loss: 0.0269 - accuracy: 0.9947 - val_loss: 0.1638 - val_accuracy: 0.9556\n",
      "Epoch 66/100\n",
      "82/82 [==============================] - 5s 55ms/step - loss: 0.0244 - accuracy: 0.9954 - val_loss: 0.1655 - val_accuracy: 0.9544\n",
      "Epoch 67/100\n",
      "82/82 [==============================] - 5s 59ms/step - loss: 0.0235 - accuracy: 0.9957 - val_loss: 0.1660 - val_accuracy: 0.9567\n",
      "Epoch 68/100\n",
      "82/82 [==============================] - 4s 51ms/step - loss: 0.0235 - accuracy: 0.9955 - val_loss: 0.1632 - val_accuracy: 0.9589\n",
      "Epoch 69/100\n",
      "82/82 [==============================] - 4s 54ms/step - loss: 0.0222 - accuracy: 0.9951 - val_loss: 0.1633 - val_accuracy: 0.9567\n",
      "Epoch 70/100\n",
      "82/82 [==============================] - 6s 70ms/step - loss: 0.0218 - accuracy: 0.9955 - val_loss: 0.1657 - val_accuracy: 0.9544\n",
      "Epoch 71/100\n",
      "82/82 [==============================] - 6s 67ms/step - loss: 0.0217 - accuracy: 0.9959 - val_loss: 0.1631 - val_accuracy: 0.9556\n",
      "Epoch 72/100\n",
      "82/82 [==============================] - 6s 67ms/step - loss: 0.0205 - accuracy: 0.9970 - val_loss: 0.1676 - val_accuracy: 0.9544\n",
      "Epoch 73/100\n",
      "82/82 [==============================] - 6s 69ms/step - loss: 0.0185 - accuracy: 0.9967 - val_loss: 0.1672 - val_accuracy: 0.9567\n",
      "Epoch 74/100\n",
      "82/82 [==============================] - 5s 58ms/step - loss: 0.0183 - accuracy: 0.9969 - val_loss: 0.1709 - val_accuracy: 0.9533\n",
      "Epoch 75/100\n",
      "82/82 [==============================] - 4s 53ms/step - loss: 0.0184 - accuracy: 0.9963 - val_loss: 0.1671 - val_accuracy: 0.9556\n",
      "Epoch 76/100\n",
      "82/82 [==============================] - 4s 53ms/step - loss: 0.0176 - accuracy: 0.9965 - val_loss: 0.1681 - val_accuracy: 0.9578\n",
      "Epoch 77/100\n",
      "82/82 [==============================] - 5s 55ms/step - loss: 0.0167 - accuracy: 0.9969 - val_loss: 0.1715 - val_accuracy: 0.9578\n",
      "Epoch 78/100\n",
      "82/82 [==============================] - 4s 51ms/step - loss: 0.0154 - accuracy: 0.9972 - val_loss: 0.1699 - val_accuracy: 0.9544\n",
      "Epoch 79/100\n",
      "82/82 [==============================] - 5s 59ms/step - loss: 0.0159 - accuracy: 0.9969 - val_loss: 0.1721 - val_accuracy: 0.9578\n",
      "Epoch 80/100\n",
      "82/82 [==============================] - 5s 63ms/step - loss: 0.0156 - accuracy: 0.9963 - val_loss: 0.1685 - val_accuracy: 0.9578\n",
      "Epoch 81/100\n",
      "82/82 [==============================] - 4s 49ms/step - loss: 0.0150 - accuracy: 0.9969 - val_loss: 0.1697 - val_accuracy: 0.9544\n",
      "Epoch 82/100\n",
      "82/82 [==============================] - 4s 50ms/step - loss: 0.0141 - accuracy: 0.9966 - val_loss: 0.1717 - val_accuracy: 0.9544\n",
      "Epoch 83/100\n",
      "82/82 [==============================] - 4s 48ms/step - loss: 0.0149 - accuracy: 0.9969 - val_loss: 0.1726 - val_accuracy: 0.9556\n",
      "Epoch 84/100\n",
      "82/82 [==============================] - 4s 52ms/step - loss: 0.0128 - accuracy: 0.9976 - val_loss: 0.1739 - val_accuracy: 0.9533\n",
      "Epoch 85/100\n",
      "82/82 [==============================] - 4s 52ms/step - loss: 0.0128 - accuracy: 0.9974 - val_loss: 0.1776 - val_accuracy: 0.9556\n",
      "Epoch 86/100\n",
      "82/82 [==============================] - 4s 55ms/step - loss: 0.0127 - accuracy: 0.9976 - val_loss: 0.1766 - val_accuracy: 0.9544\n",
      "Epoch 87/100\n",
      "82/82 [==============================] - 5s 60ms/step - loss: 0.0120 - accuracy: 0.9972 - val_loss: 0.1763 - val_accuracy: 0.9544\n",
      "Epoch 88/100\n",
      "82/82 [==============================] - 4s 53ms/step - loss: 0.0110 - accuracy: 0.9976 - val_loss: 0.1790 - val_accuracy: 0.9533\n",
      "Epoch 89/100\n",
      "82/82 [==============================] - 4s 51ms/step - loss: 0.0111 - accuracy: 0.9978 - val_loss: 0.1775 - val_accuracy: 0.9544\n",
      "Epoch 90/100\n",
      "82/82 [==============================] - 4s 50ms/step - loss: 0.0121 - accuracy: 0.9974 - val_loss: 0.1768 - val_accuracy: 0.9544\n",
      "Epoch 91/100\n",
      "82/82 [==============================] - 4s 51ms/step - loss: 0.0109 - accuracy: 0.9976 - val_loss: 0.1859 - val_accuracy: 0.9500\n",
      "Epoch 92/100\n",
      "82/82 [==============================] - 4s 52ms/step - loss: 0.0119 - accuracy: 0.9974 - val_loss: 0.1845 - val_accuracy: 0.9522\n",
      "Epoch 93/100\n",
      "82/82 [==============================] - 4s 51ms/step - loss: 0.0100 - accuracy: 0.9982 - val_loss: 0.1829 - val_accuracy: 0.9500\n",
      "Epoch 94/100\n",
      "82/82 [==============================] - 4s 51ms/step - loss: 0.0100 - accuracy: 0.9977 - val_loss: 0.1775 - val_accuracy: 0.9533\n",
      "Epoch 95/100\n",
      "82/82 [==============================] - 4s 55ms/step - loss: 0.0105 - accuracy: 0.9974 - val_loss: 0.1802 - val_accuracy: 0.9544\n",
      "Epoch 96/100\n",
      "82/82 [==============================] - 4s 48ms/step - loss: 0.0096 - accuracy: 0.9981 - val_loss: 0.1797 - val_accuracy: 0.9544\n",
      "Epoch 97/100\n",
      "82/82 [==============================] - 4s 52ms/step - loss: 0.0091 - accuracy: 0.9977 - val_loss: 0.1865 - val_accuracy: 0.9556\n",
      "Epoch 98/100\n",
      "82/82 [==============================] - 4s 51ms/step - loss: 0.0096 - accuracy: 0.9981 - val_loss: 0.1861 - val_accuracy: 0.9522\n",
      "Epoch 99/100\n",
      "82/82 [==============================] - 4s 53ms/step - loss: 0.0095 - accuracy: 0.9978 - val_loss: 0.1847 - val_accuracy: 0.9533\n",
      "Epoch 100/100\n",
      "82/82 [==============================] - 5s 56ms/step - loss: 0.0088 - accuracy: 0.9981 - val_loss: 0.1817 - val_accuracy: 0.9567\n"
     ]
    }
   ],
   "source": [
    "from keras.preprocessing.sequence import pad_sequences\n",
    "X = [[word2idx[w[0]] for w in s] for s in sentences]\n",
    "\n",
    "X = pad_sequences(maxlen=max_len, sequences=X, padding=\"post\", value=n_words - 1)\n",
    "y = [[tag2idx[w[2]] for w in s] for s in sentences]\n",
    "y = pad_sequences(maxlen=max_len, sequences=y, padding=\"post\", value=tag2idx[\"O\"])\n",
    "\n",
    "from keras.utils import to_categorical\n",
    "y = [to_categorical(i, num_classes=n_tags) for i in y]\n",
    "\n",
    "from keras.models import Model, Input\n",
    "from keras.layers import LSTM, Embedding, Dense, TimeDistributed, Dropout, Bidirectional\n",
    "\n",
    "input = Input(shape=(max_len,))\n",
    "model = Embedding(input_dim=n_words, output_dim=40, input_length=max_len)(input)\n",
    "model = Dropout(0.1)(model)\n",
    "model = Bidirectional(LSTM(units=15, return_sequences=True, recurrent_dropout=0.1))(model)\n",
    "out = TimeDistributed(Dense(n_tags, activation=\"softmax\"))(model) \n",
    "\n",
    "model = Model(input, out)\n",
    "model.summary()\n",
    "model.compile(optimizer=\"rmsprop\", loss=\"categorical_crossentropy\", metrics=[\"accuracy\"])\n",
    "\n",
    "history = model.fit(X, np.array(y),batch_size=4, epochs=100, validation_split=0.1, verbose=1)"
   ]
  },
  {
   "cell_type": "code",
   "execution_count": 5,
   "metadata": {
    "colab": {
     "base_uri": "https://localhost:8080/",
     "height": 911
    },
    "colab_type": "code",
    "id": "TlXNWMtQDDTw",
    "outputId": "5f75ae91-9b5b-48d1-dbba-6e15302fbd4b"
   },
   "outputs": [],
   "source": [
    "# !pip install google-cloud-storage"
   ]
  },
  {
   "cell_type": "code",
   "execution_count": 6,
   "metadata": {
    "colab": {
     "base_uri": "https://localhost:8080/",
     "height": 366
    },
    "colab_type": "code",
    "id": "nXhcm0p8Yruw",
    "outputId": "304ecb96-d1ea-439f-993c-dd33050ebe26"
   },
   "outputs": [],
   "source": [
    "# !pip install firebase_admin"
   ]
  },
  {
   "cell_type": "code",
   "execution_count": 5,
   "metadata": {
    "colab": {
     "base_uri": "https://localhost:8080/",
     "height": 34
    },
    "colab_type": "code",
    "id": "uk61XWNCCwHF",
    "outputId": "77ed7e7d-e5d5-4a77-9fa4-8d16069c5766"
   },
   "outputs": [
    {
     "data": {
      "text/plain": [
       "<firebase_admin.App at 0x2b38ccc62b0>"
      ]
     },
     "execution_count": 5,
     "metadata": {},
     "output_type": "execute_result"
    }
   ],
   "source": [
    "import firebase_admin\n",
    "from firebase_admin import credentials\n",
    "from firebase_admin import db\n",
    "\n",
    "# Fetch the service account key JSON file contents\n",
    "# cred = credentials.Certificate('fir-189ce-firebase-adminsdk-e368z-ddbed10d26.json')\n",
    "cred = credentials.Certificate('imagetotextf-firebase-adminsdk-tii7k-544931e7be.json')\n",
    "# Initialize the app with a service account, granting admin privileges\n",
    "firebase_admin.initialize_app(cred, {\n",
    "    'databaseURL': 'https://imagetotextf.firebaseio.com/'\n",
    "})\n",
    "\n",
    "\n"
   ]
  },
  {
   "cell_type": "code",
   "execution_count": 6,
   "metadata": {
    "colab": {},
    "colab_type": "code",
    "id": "Z3pdOCW5a3oD"
   },
   "outputs": [],
   "source": [
    "import urllib\n",
    "import json\n",
    "def download_file(my_url):\n",
    "    \n",
    "    # my_url = \"https://firebasestorage.googleapis.com/v0/b/fir-189ce.appspot.com/o/media.io_WhatsApp%20Audio%202020-01-03%20at%203.53.36%20PM.wav?alt=media&token=ee94b151-0014-4c30-9601-8b3208cf4b87\"\n",
    "\n",
    "    try:\n",
    "        loader = urllib.request.urlretrieve(my_url, \"prescription.wav\")\n",
    "        return loader\n",
    "    except urllib.error.URLError as e:\n",
    "        message = json.loads(e.read())\n",
    "        print(message[\"error\"][\"message\"])\n",
    "    else:\n",
    "        print(loader)"
   ]
  },
  {
   "cell_type": "code",
   "execution_count": null,
   "metadata": {
    "colab": {
     "base_uri": "https://localhost:8080/",
     "height": 79
    },
    "colab_type": "code",
    "id": "c8lIzhPmDA2l",
    "outputId": "06a4efe6-8e34-4f6d-d645-3276a286dc32"
   },
   "outputs": [],
   "source": []
  },
  {
   "cell_type": "code",
   "execution_count": null,
   "metadata": {
    "colab": {
     "base_uri": "https://localhost:8080/",
     "height": 608
    },
    "colab_type": "code",
    "id": "4ct1W6XuVp1I",
    "outputId": "f46e9b73-556b-4d89-d0c2-1d48f198b48b"
   },
   "outputs": [],
   "source": []
  },
  {
   "cell_type": "code",
   "execution_count": null,
   "metadata": {
    "colab": {},
    "colab_type": "code",
    "id": "VdkMHlpLZw9B"
   },
   "outputs": [],
   "source": [
    "refFile = db.reference('FilePath')\n",
    "refpython = db.reference('python')"
   ]
  },
  {
   "cell_type": "code",
   "execution_count": 10,
   "metadata": {
    "colab": {
     "base_uri": "https://localhost:8080/",
     "height": 121
    },
    "colab_type": "code",
    "id": "shjK2Kjjc6xO",
    "outputId": "c0ba4e06-1012-4db2-b3ef-bc762135837b"
   },
   "outputs": [],
   "source": [
    "# !pip install SpeechRecognition"
   ]
  },
  {
   "cell_type": "code",
   "execution_count": 11,
   "metadata": {
    "colab": {
     "base_uri": "https://localhost:8080/",
     "height": 205
    },
    "colab_type": "code",
    "id": "gM5FxAGrdhW3",
    "outputId": "e9581d6c-4729-46c6-81d1-6d72e580999e"
   },
   "outputs": [],
   "source": [
    "# !pip install pyaudio"
   ]
  },
  {
   "cell_type": "code",
   "execution_count": null,
   "metadata": {
    "colab": {
     "base_uri": "https://localhost:8080/",
     "height": 330
    },
    "colab_type": "code",
    "id": "hm-aAz9Gcu3N",
    "outputId": "ab4ff027-66f0-4eca-be95-bdc2c265c016"
   },
   "outputs": [],
   "source": [
    "import speech_recognition as sr\n",
    "import pyaudio\n",
    "r = sr.Recognizer()"
   ]
  },
  {
   "cell_type": "code",
   "execution_count": null,
   "metadata": {
    "colab": {},
    "colab_type": "code",
    "id": "ENrq0JmCZw2E"
   },
   "outputs": [],
   "source": [
    "nd = {}"
   ]
  },
  {
   "cell_type": "code",
   "execution_count": null,
   "metadata": {
    "colab": {},
    "colab_type": "code",
    "id": "j8lb5csUVvBF",
    "scrolled": false
   },
   "outputs": [],
   "source": [
    "while True:\n",
    "    \n",
    "    if refFile.get()['URL']:\n",
    "        d = refFile.get()\n",
    "        urlLink = d['URL']\n",
    "        download_file(urlLink)\n",
    "        with sr.AudioFile('prescription.wav') as source:\n",
    "          audio = r.listen(source)\n",
    "        text = r.recognize_google(audio)\n",
    "        print(text)\n",
    "\n",
    "        s = \"\"\n",
    "        spl = text.split()\n",
    "        c = len(spl)\n",
    "        spl2 = []\n",
    "        for i in range(c):\n",
    "#             print(len(spl2),len(spl),sep = \" \")\n",
    "            if spl[i] == \"mg\" or spl[i] == \"ml\":\n",
    "                spl2[len(spl2)-1] += spl[i]\n",
    "            elif spl[i] == \"MG\" or spl[i] == \"ML\":\n",
    "                spl2[len(spl2)-1] += spl[i].lower()\n",
    "            else:\n",
    "                spl2.append(spl[i])\n",
    "        text = spl2\n",
    "        for a in text:\n",
    "          if word2idx.get(a):\n",
    "            if s == \"\":\n",
    "              s += a \n",
    "            else:\n",
    "              s += \" \" + a \n",
    "        print(s)\n",
    "        lis = [x for x in s.split()]\n",
    "        for i in range(len(s.split()),90):\n",
    "          lis.append('ENDPAD')\n",
    "#         print(lis)\n",
    "        test = [word2idx[w] for w in lis]\n",
    "        p = model.predict(np.array([test]))\n",
    "        p = np.argmax(p, axis=-1)\n",
    "        ans = [tags[x] for x in p[0]]\n",
    "        for x,y in zip(lis,ans):\n",
    "            print(x + \" - \" + y,end=\"\\n\")\n",
    "        print(ans)\n",
    "        d['URL'] = False\n",
    "        refFile.set(d)\n",
    "        \n",
    "        dp = getDict(ans,s)\n",
    "        nd = dp\n",
    "        refpython.set({'isAvailable':convertDict(dp)})"
   ]
  },
  {
   "cell_type": "code",
   "execution_count": null,
   "metadata": {},
   "outputs": [],
   "source": []
  },
  {
   "cell_type": "code",
   "execution_count": null,
   "metadata": {},
   "outputs": [],
   "source": []
  },
  {
   "cell_type": "code",
   "execution_count": 20,
   "metadata": {},
   "outputs": [],
   "source": [
    "model.save('savingmodel.h5')\n",
    "model.save_weights('savingweights.h5')"
   ]
  },
  {
   "cell_type": "code",
   "execution_count": 15,
   "metadata": {},
   "outputs": [],
   "source": []
  },
  {
   "cell_type": "code",
   "execution_count": null,
   "metadata": {},
   "outputs": [],
   "source": []
  },
  {
   "cell_type": "code",
   "execution_count": null,
   "metadata": {},
   "outputs": [],
   "source": []
  },
  {
   "cell_type": "code",
   "execution_count": null,
   "metadata": {},
   "outputs": [],
   "source": []
  },
  {
   "cell_type": "code",
   "execution_count": 29,
   "metadata": {},
   "outputs": [],
   "source": []
  },
  {
   "cell_type": "code",
   "execution_count": null,
   "metadata": {},
   "outputs": [],
   "source": []
  },
  {
   "cell_type": "code",
   "execution_count": null,
   "metadata": {},
   "outputs": [],
   "source": []
  },
  {
   "cell_type": "code",
   "execution_count": null,
   "metadata": {},
   "outputs": [],
   "source": []
  },
  {
   "cell_type": "code",
   "execution_count": 4,
   "metadata": {},
   "outputs": [],
   "source": []
  },
  {
   "cell_type": "code",
   "execution_count": null,
   "metadata": {},
   "outputs": [],
   "source": []
  },
  {
   "cell_type": "code",
   "execution_count": null,
   "metadata": {},
   "outputs": [],
   "source": []
  },
  {
   "cell_type": "code",
   "execution_count": null,
   "metadata": {},
   "outputs": [],
   "source": []
  },
  {
   "cell_type": "code",
   "execution_count": null,
   "metadata": {},
   "outputs": [],
   "source": []
  },
  {
   "cell_type": "code",
   "execution_count": null,
   "metadata": {},
   "outputs": [],
   "source": []
  },
  {
   "cell_type": "code",
   "execution_count": null,
   "metadata": {},
   "outputs": [],
   "source": []
  },
  {
   "cell_type": "code",
   "execution_count": null,
   "metadata": {},
   "outputs": [],
   "source": []
  },
  {
   "cell_type": "code",
   "execution_count": null,
   "metadata": {},
   "outputs": [],
   "source": []
  },
  {
   "cell_type": "code",
   "execution_count": null,
   "metadata": {},
   "outputs": [],
   "source": []
  },
  {
   "cell_type": "code",
   "execution_count": null,
   "metadata": {},
   "outputs": [],
   "source": []
  },
  {
   "cell_type": "code",
   "execution_count": null,
   "metadata": {},
   "outputs": [],
   "source": []
  },
  {
   "cell_type": "code",
   "execution_count": null,
   "metadata": {},
   "outputs": [],
   "source": []
  },
  {
   "cell_type": "code",
   "execution_count": 67,
   "metadata": {},
   "outputs": [],
   "source": []
  },
  {
   "cell_type": "code",
   "execution_count": 28,
   "metadata": {},
   "outputs": [],
   "source": []
  },
  {
   "cell_type": "code",
   "execution_count": null,
   "metadata": {},
   "outputs": [],
   "source": []
  },
  {
   "cell_type": "code",
   "execution_count": null,
   "metadata": {},
   "outputs": [],
   "source": []
  },
  {
   "cell_type": "code",
   "execution_count": null,
   "metadata": {},
   "outputs": [],
   "source": []
  },
  {
   "cell_type": "code",
   "execution_count": null,
   "metadata": {},
   "outputs": [],
   "source": []
  },
  {
   "cell_type": "code",
   "execution_count": null,
   "metadata": {},
   "outputs": [],
   "source": []
  },
  {
   "cell_type": "code",
   "execution_count": null,
   "metadata": {},
   "outputs": [],
   "source": []
  },
  {
   "cell_type": "code",
   "execution_count": null,
   "metadata": {},
   "outputs": [],
   "source": []
  },
  {
   "cell_type": "code",
   "execution_count": null,
   "metadata": {},
   "outputs": [],
   "source": []
  },
  {
   "cell_type": "code",
   "execution_count": null,
   "metadata": {},
   "outputs": [],
   "source": []
  },
  {
   "cell_type": "code",
   "execution_count": null,
   "metadata": {},
   "outputs": [],
   "source": []
  },
  {
   "cell_type": "code",
   "execution_count": null,
   "metadata": {},
   "outputs": [],
   "source": []
  },
  {
   "cell_type": "code",
   "execution_count": null,
   "metadata": {},
   "outputs": [],
   "source": []
  },
  {
   "cell_type": "code",
   "execution_count": null,
   "metadata": {},
   "outputs": [],
   "source": []
  },
  {
   "cell_type": "code",
   "execution_count": null,
   "metadata": {},
   "outputs": [],
   "source": []
  },
  {
   "cell_type": "code",
   "execution_count": null,
   "metadata": {},
   "outputs": [],
   "source": []
  },
  {
   "cell_type": "code",
   "execution_count": null,
   "metadata": {},
   "outputs": [],
   "source": []
  }
 ],
 "metadata": {
  "colab": {
   "name": "Untitled3.ipynb",
   "provenance": []
  },
  "kernelspec": {
   "display_name": "Python 3",
   "language": "python",
   "name": "python3"
  },
  "language_info": {
   "codemirror_mode": {
    "name": "ipython",
    "version": 3
   },
   "file_extension": ".py",
   "mimetype": "text/x-python",
   "name": "python",
   "nbconvert_exporter": "python",
   "pygments_lexer": "ipython3",
   "version": "3.6.5"
  }
 },
 "nbformat": 4,
 "nbformat_minor": 1
}
